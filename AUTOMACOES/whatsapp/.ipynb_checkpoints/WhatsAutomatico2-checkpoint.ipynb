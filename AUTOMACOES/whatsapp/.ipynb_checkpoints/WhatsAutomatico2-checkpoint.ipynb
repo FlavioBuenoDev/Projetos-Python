{
 "cells": [
  {
   "cell_type": "code",
   "execution_count": 5,
   "id": "5bbce131",
   "metadata": {},
   "outputs": [],
   "source": [
    "from selenium import webdriver\n",
    "from selenium.webdriver.common.keys import Keys\n",
    "from selenium.webdriver.common.by import By\n",
    "import time\n",
    "\n",
    "navegador = webdriver.Chrome()\n",
    "navegador.get(\"https://web.whatsapp.com\")\n",
    "while len(navegador.find_elements(By.ID, \"side\")) < 1:\n",
    "    time.sleep(1)\n",
    "time.sleep(2)\n",
    "    "
   ]
  },
  {
   "cell_type": "code",
   "execution_count": 6,
   "id": "206fd657",
   "metadata": {
    "scrolled": false
   },
   "outputs": [
    {
     "data": {
      "text/html": [
       "<div>\n",
       "<style scoped>\n",
       "    .dataframe tbody tr th:only-of-type {\n",
       "        vertical-align: middle;\n",
       "    }\n",
       "\n",
       "    .dataframe tbody tr th {\n",
       "        vertical-align: top;\n",
       "    }\n",
       "\n",
       "    .dataframe thead th {\n",
       "        text-align: right;\n",
       "    }\n",
       "</style>\n",
       "<table border=\"1\" class=\"dataframe\">\n",
       "  <thead>\n",
       "    <tr style=\"text-align: right;\">\n",
       "      <th></th>\n",
       "      <th>Pessoa</th>\n",
       "      <th>Numero</th>\n",
       "    </tr>\n",
       "  </thead>\n",
       "  <tbody>\n",
       "    <tr>\n",
       "      <th>0</th>\n",
       "      <td>flavio</td>\n",
       "      <td>551199829118222</td>\n",
       "    </tr>\n",
       "  </tbody>\n",
       "</table>\n",
       "</div>"
      ],
      "text/plain": [
       "   Pessoa           Numero\n",
       "0  flavio  551199829118222"
      ]
     },
     "metadata": {},
     "output_type": "display_data"
    }
   ],
   "source": [
    "# \n",
    "import pandas as pd\n",
    "\n",
    "tabela= pd.read_excel(\"Enviar.xlsx\")\n",
    "display(tabela[['Pessoa', 'Numero']])"
   ]
  },
  {
   "cell_type": "code",
   "execution_count": 7,
   "id": "5e1ca1cd",
   "metadata": {},
   "outputs": [
    {
     "ename": "NoSuchElementException",
     "evalue": "Message: no such element: Unable to locate element: {\"method\":\"xpath\",\"selector\":\"//*[@id=\"main\"]/footer/div[1]/div/span[2]/div/div[2]/div[2]/button/span\"}\n  (Session info: chrome=113.0.5672.127)\nStacktrace:\nBacktrace:\n\tGetHandleVerifier [0x00FD8893+48451]\n\t(No symbol) [0x00F6B8A1]\n\t(No symbol) [0x00E75058]\n\t(No symbol) [0x00EA0467]\n\t(No symbol) [0x00EA069B]\n\t(No symbol) [0x00ECDD92]\n\t(No symbol) [0x00EBA304]\n\t(No symbol) [0x00ECC482]\n\t(No symbol) [0x00EBA0B6]\n\t(No symbol) [0x00E97E08]\n\t(No symbol) [0x00E98F2D]\n\tGetHandleVerifier [0x01238E3A+2540266]\n\tGetHandleVerifier [0x01278959+2801161]\n\tGetHandleVerifier [0x0127295C+2776588]\n\tGetHandleVerifier [0x01062280+612144]\n\t(No symbol) [0x00F74F6C]\n\t(No symbol) [0x00F711D8]\n\t(No symbol) [0x00F712BB]\n\t(No symbol) [0x00F64857]\n\tBaseThreadInitThunk [0x76607D59+25]\n\tRtlInitializeExceptionChain [0x7723B74B+107]\n\tRtlClearBits [0x7723B6CF+191]\n",
     "output_type": "error",
     "traceback": [
      "\u001b[1;31m---------------------------------------------------------------------------\u001b[0m",
      "\u001b[1;31mNoSuchElementException\u001b[0m                    Traceback (most recent call last)",
      "\u001b[1;32mC:\\Users\\FLAVIO~1.BUE\\AppData\\Local\\Temp/ipykernel_14468/223754185.py\u001b[0m in \u001b[0;36m<module>\u001b[1;34m\u001b[0m\n\u001b[0;32m     30\u001b[0m     \u001b[0mtime\u001b[0m\u001b[1;33m.\u001b[0m\u001b[0msleep\u001b[0m\u001b[1;33m(\u001b[0m\u001b[1;36m2\u001b[0m\u001b[1;33m)\u001b[0m\u001b[1;33m\u001b[0m\u001b[1;33m\u001b[0m\u001b[0m\n\u001b[0;32m     31\u001b[0m \u001b[1;33m\u001b[0m\u001b[0m\n\u001b[1;32m---> 32\u001b[1;33m     \u001b[0mnavegador\u001b[0m\u001b[1;33m.\u001b[0m\u001b[0mfind_element\u001b[0m\u001b[1;33m(\u001b[0m\u001b[0mBy\u001b[0m\u001b[1;33m.\u001b[0m\u001b[0mXPATH\u001b[0m\u001b[1;33m,\u001b[0m \u001b[1;34m'//*[@id=\"main\"]/footer/div[1]/div/span[2]/div/div[2]/div[2]/button/span'\u001b[0m\u001b[1;33m)\u001b[0m\u001b[1;33m.\u001b[0m\u001b[0mclick\u001b[0m\u001b[1;33m(\u001b[0m\u001b[1;33m)\u001b[0m\u001b[1;33m\u001b[0m\u001b[1;33m\u001b[0m\u001b[0m\n\u001b[0m\u001b[0;32m     33\u001b[0m     \u001b[0mtime\u001b[0m\u001b[1;33m.\u001b[0m\u001b[0msleep\u001b[0m\u001b[1;33m(\u001b[0m\u001b[1;36m2\u001b[0m\u001b[1;33m)\u001b[0m\u001b[1;33m\u001b[0m\u001b[1;33m\u001b[0m\u001b[0m\n",
      "\u001b[1;32mC:\\ProgramData\\Anaconda3\\lib\\site-packages\\selenium\\webdriver\\remote\\webdriver.py\u001b[0m in \u001b[0;36mfind_element\u001b[1;34m(self, by, value)\u001b[0m\n\u001b[0;32m    854\u001b[0m             \u001b[0mvalue\u001b[0m \u001b[1;33m=\u001b[0m \u001b[1;34m'[name=\"%s\"]'\u001b[0m \u001b[1;33m%\u001b[0m \u001b[0mvalue\u001b[0m\u001b[1;33m\u001b[0m\u001b[1;33m\u001b[0m\u001b[0m\n\u001b[0;32m    855\u001b[0m \u001b[1;33m\u001b[0m\u001b[0m\n\u001b[1;32m--> 856\u001b[1;33m         return self.execute(Command.FIND_ELEMENT, {\n\u001b[0m\u001b[0;32m    857\u001b[0m             \u001b[1;34m'using'\u001b[0m\u001b[1;33m:\u001b[0m \u001b[0mby\u001b[0m\u001b[1;33m,\u001b[0m\u001b[1;33m\u001b[0m\u001b[1;33m\u001b[0m\u001b[0m\n\u001b[0;32m    858\u001b[0m             'value': value})['value']\n",
      "\u001b[1;32mC:\\ProgramData\\Anaconda3\\lib\\site-packages\\selenium\\webdriver\\remote\\webdriver.py\u001b[0m in \u001b[0;36mexecute\u001b[1;34m(self, driver_command, params)\u001b[0m\n\u001b[0;32m    427\u001b[0m         \u001b[0mresponse\u001b[0m \u001b[1;33m=\u001b[0m \u001b[0mself\u001b[0m\u001b[1;33m.\u001b[0m\u001b[0mcommand_executor\u001b[0m\u001b[1;33m.\u001b[0m\u001b[0mexecute\u001b[0m\u001b[1;33m(\u001b[0m\u001b[0mdriver_command\u001b[0m\u001b[1;33m,\u001b[0m \u001b[0mparams\u001b[0m\u001b[1;33m)\u001b[0m\u001b[1;33m\u001b[0m\u001b[1;33m\u001b[0m\u001b[0m\n\u001b[0;32m    428\u001b[0m         \u001b[1;32mif\u001b[0m \u001b[0mresponse\u001b[0m\u001b[1;33m:\u001b[0m\u001b[1;33m\u001b[0m\u001b[1;33m\u001b[0m\u001b[0m\n\u001b[1;32m--> 429\u001b[1;33m             \u001b[0mself\u001b[0m\u001b[1;33m.\u001b[0m\u001b[0merror_handler\u001b[0m\u001b[1;33m.\u001b[0m\u001b[0mcheck_response\u001b[0m\u001b[1;33m(\u001b[0m\u001b[0mresponse\u001b[0m\u001b[1;33m)\u001b[0m\u001b[1;33m\u001b[0m\u001b[1;33m\u001b[0m\u001b[0m\n\u001b[0m\u001b[0;32m    430\u001b[0m             response['value'] = self._unwrap_value(\n\u001b[0;32m    431\u001b[0m                 response.get('value', None))\n",
      "\u001b[1;32mC:\\ProgramData\\Anaconda3\\lib\\site-packages\\selenium\\webdriver\\remote\\errorhandler.py\u001b[0m in \u001b[0;36mcheck_response\u001b[1;34m(self, response)\u001b[0m\n\u001b[0;32m    241\u001b[0m                 \u001b[0malert_text\u001b[0m \u001b[1;33m=\u001b[0m \u001b[0mvalue\u001b[0m\u001b[1;33m[\u001b[0m\u001b[1;34m'alert'\u001b[0m\u001b[1;33m]\u001b[0m\u001b[1;33m.\u001b[0m\u001b[0mget\u001b[0m\u001b[1;33m(\u001b[0m\u001b[1;34m'text'\u001b[0m\u001b[1;33m)\u001b[0m\u001b[1;33m\u001b[0m\u001b[1;33m\u001b[0m\u001b[0m\n\u001b[0;32m    242\u001b[0m             \u001b[1;32mraise\u001b[0m \u001b[0mexception_class\u001b[0m\u001b[1;33m(\u001b[0m\u001b[0mmessage\u001b[0m\u001b[1;33m,\u001b[0m \u001b[0mscreen\u001b[0m\u001b[1;33m,\u001b[0m \u001b[0mstacktrace\u001b[0m\u001b[1;33m,\u001b[0m \u001b[0malert_text\u001b[0m\u001b[1;33m)\u001b[0m  \u001b[1;31m# type: ignore[call-arg]  # mypy is not smart enough here\u001b[0m\u001b[1;33m\u001b[0m\u001b[1;33m\u001b[0m\u001b[0m\n\u001b[1;32m--> 243\u001b[1;33m         \u001b[1;32mraise\u001b[0m \u001b[0mexception_class\u001b[0m\u001b[1;33m(\u001b[0m\u001b[0mmessage\u001b[0m\u001b[1;33m,\u001b[0m \u001b[0mscreen\u001b[0m\u001b[1;33m,\u001b[0m \u001b[0mstacktrace\u001b[0m\u001b[1;33m)\u001b[0m\u001b[1;33m\u001b[0m\u001b[1;33m\u001b[0m\u001b[0m\n\u001b[0m",
      "\u001b[1;31mNoSuchElementException\u001b[0m: Message: no such element: Unable to locate element: {\"method\":\"xpath\",\"selector\":\"//*[@id=\"main\"]/footer/div[1]/div/span[2]/div/div[2]/div[2]/button/span\"}\n  (Session info: chrome=113.0.5672.127)\nStacktrace:\nBacktrace:\n\tGetHandleVerifier [0x00FD8893+48451]\n\t(No symbol) [0x00F6B8A1]\n\t(No symbol) [0x00E75058]\n\t(No symbol) [0x00EA0467]\n\t(No symbol) [0x00EA069B]\n\t(No symbol) [0x00ECDD92]\n\t(No symbol) [0x00EBA304]\n\t(No symbol) [0x00ECC482]\n\t(No symbol) [0x00EBA0B6]\n\t(No symbol) [0x00E97E08]\n\t(No symbol) [0x00E98F2D]\n\tGetHandleVerifier [0x01238E3A+2540266]\n\tGetHandleVerifier [0x01278959+2801161]\n\tGetHandleVerifier [0x0127295C+2776588]\n\tGetHandleVerifier [0x01062280+612144]\n\t(No symbol) [0x00F74F6C]\n\t(No symbol) [0x00F711D8]\n\t(No symbol) [0x00F712BB]\n\t(No symbol) [0x00F64857]\n\tBaseThreadInitThunk [0x76607D59+25]\n\tRtlInitializeExceptionChain [0x7723B74B+107]\n\tRtlClearBits [0x7723B6CF+191]\n"
     ]
    }
   ],
   "source": [
    "import urllib\n",
    "import time\n",
    "\n",
    "\n",
    "for linha in tabela.index:\n",
    "    nome = tabela.loc[linha, \"Pessoa\"]\n",
    "    telefone = tabela.loc[linha, \"Numero\"]\n",
    "        \n",
    "    \n",
    "    mensagem = (f\" Prezado(a) Boa tarde! \\\n",
    "                       \\n Sra (o) {nome}\\\n",
    "                       \\n Constatamos que existem em sistema parcelas em aberto com relação ao seu plano de saúde.\\\n",
    "                       \\n Informamos ainda, que na hipótese do não cumprimento da obrigação citada, a UNIHOSP SAÚDE se reserva no direito de informar a inadimplência junto aos órgãos de proteção ao crédito, para fins de inscrição.\\\n",
    "                       \\n Estamos à disposição para mais esclarecimentos por meio da nossa Central de Atendimento, no Telefone (11) 91025-6039 (WHATS APP) ou E-MAIL COBRANCA@UNIHOSPSAUDE.COM.BR\\\n",
    "                       \\n Atenciosamente;\\\n",
    "                       \\n Unihosp Saúde\\\n",
    "                       \\n Financeiro Cobrança.\\\n",
    "                       \\n Tel:11910256039\")\n",
    "\n",
    "    texto = urllib.parse.quote(mensagem)\n",
    "    \n",
    "       #Enviar Mensagem \n",
    "    link = f\"https://web.whatsapp.com/send?phone={telefone}&text={texto}\"\n",
    "    \n",
    "    navegador.get(link)\n",
    "    \n",
    "    #espera um elemento que só aparece quando esta carregado\n",
    "    while len(navegador.find_elements(By.ID, \"side\")) < 1:\n",
    "        time.sleep(1)\n",
    "    time.sleep(2)\n",
    "    \n",
    "    # Verica se o telefone é um numero válido\n",
    "    if len(navegador.find_elements(By.XPATH, '//*[@id=\"app\"]/div/span[2]/div/span/div/div/div/div/div/div[1]')) < 1:\n",
    "        # Envia mensagem\n",
    "        navegador.find_element(By.XPATH, '//*[@id=\"main\"]/footer/div[1]/div/span[2]/div/div[2]/div[2]/button/span').click()\n",
    "        time.sleep(5)\n",
    "    \n",
    " \n",
    "       "
   ]
  },
  {
   "cell_type": "code",
   "execution_count": null,
   "id": "e6bd91de",
   "metadata": {},
   "outputs": [],
   "source": []
  }
 ],
 "metadata": {
  "kernelspec": {
   "display_name": "Python 3 (ipykernel)",
   "language": "python",
   "name": "python3"
  },
  "language_info": {
   "codemirror_mode": {
    "name": "ipython",
    "version": 3
   },
   "file_extension": ".py",
   "mimetype": "text/x-python",
   "name": "python",
   "nbconvert_exporter": "python",
   "pygments_lexer": "ipython3",
   "version": "3.9.7"
  }
 },
 "nbformat": 4,
 "nbformat_minor": 5
}
