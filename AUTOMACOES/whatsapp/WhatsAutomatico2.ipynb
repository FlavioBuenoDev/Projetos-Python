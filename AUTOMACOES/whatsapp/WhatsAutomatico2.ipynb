{
 "cells": [
  {
   "cell_type": "code",
   "execution_count": 9,
   "id": "5bbce131",
   "metadata": {},
   "outputs": [],
   "source": [
    "from selenium import webdriver\n",
    "from selenium.webdriver.common.keys import Keys\n",
    "from selenium.webdriver.common.by import By\n",
    "import time\n",
    "import urllib\n",
    "\n",
    "navegador = webdriver.Chrome()\n",
    "navegador.get(\"https://web.whatsapp.com\")\n",
    "while len(navegador.find_elements(By.ID, \"side\")) < 1:\n",
    "    time.sleep(1)\n",
    "time.sleep(2)\n",
    "    "
   ]
  },
  {
   "cell_type": "code",
   "execution_count": 12,
   "id": "206fd657",
   "metadata": {
    "scrolled": false
   },
   "outputs": [
    {
     "data": {
      "text/html": [
       "<div>\n",
       "<style scoped>\n",
       "    .dataframe tbody tr th:only-of-type {\n",
       "        vertical-align: middle;\n",
       "    }\n",
       "\n",
       "    .dataframe tbody tr th {\n",
       "        vertical-align: top;\n",
       "    }\n",
       "\n",
       "    .dataframe thead th {\n",
       "        text-align: right;\n",
       "    }\n",
       "</style>\n",
       "<table border=\"1\" class=\"dataframe\">\n",
       "  <thead>\n",
       "    <tr style=\"text-align: right;\">\n",
       "      <th></th>\n",
       "      <th>Pessoa</th>\n",
       "      <th>Numero</th>\n",
       "    </tr>\n",
       "  </thead>\n",
       "  <tbody>\n",
       "    <tr>\n",
       "      <th>0</th>\n",
       "      <td>flavio</td>\n",
       "      <td>551199829118222</td>\n",
       "    </tr>\n",
       "    <tr>\n",
       "      <th>1</th>\n",
       "      <td>fafas</td>\n",
       "      <td>55119982911823</td>\n",
       "    </tr>\n",
       "    <tr>\n",
       "      <th>2</th>\n",
       "      <td>asasd</td>\n",
       "      <td>551199829118221</td>\n",
       "    </tr>\n",
       "  </tbody>\n",
       "</table>\n",
       "</div>"
      ],
      "text/plain": [
       "   Pessoa           Numero\n",
       "0  flavio  551199829118222\n",
       "1   fafas   55119982911823\n",
       "2   asasd  551199829118221"
      ]
     },
     "metadata": {},
     "output_type": "display_data"
    }
   ],
   "source": [
    "# \n",
    "import pandas as pd\n",
    "\n",
    "tabela= pd.read_excel(\"Enviar.xlsx\")\n",
    "display(tabela[['Pessoa', 'Numero']])"
   ]
  },
  {
   "cell_type": "code",
   "execution_count": 13,
   "id": "5e1ca1cd",
   "metadata": {},
   "outputs": [],
   "source": [
    "\n",
    "for linha in tabela.index:\n",
    "    nome = tabela.loc[linha, \"Pessoa\"]\n",
    "    telefone = tabela.loc[linha, \"Numero\"]\n",
    "        \n",
    "    \n",
    "    mensagem = (f\" Prezado(a) Boa tarde! \\\n",
    "                       \\n Sra (o) {nome}\\\n",
    "                       \\n Constatamos que existem em sistema parcelas em aberto com relação ao seu plano de saúde.\\\n",
    "                       \\n Informamos ainda, que na hipótese do não cumprimento da obrigação citada, a UNIHOSP SAÚDE se reserva no direito de informar a inadimplência junto aos órgãos de proteção ao crédito, para fins de inscrição.\\\n",
    "                       \\n Estamos à disposição para mais esclarecimentos por meio da nossa Central de Atendimento, no Telefone (11) 91025-6039 (WHATS APP) ou E-MAIL COBRANCA@UNIHOSPSAUDE.COM.BR\\\n",
    "                       \\n Atenciosamente;\\\n",
    "                       \\n Unihosp Saúde\\\n",
    "                       \\n Financeiro Cobrança.\\\n",
    "                       \\n Tel:11910256039\")\n",
    "\n",
    "    texto = urllib.parse.quote(mensagem)\n",
    "    \n",
    "       #Enviar Mensagem \n",
    "    link = f\"https://web.whatsapp.com/send?phone={telefone}&text={texto}\"\n",
    "    \n",
    "    navegador.get(link)\n",
    "    \n",
    "    #espera um elemento que só aparece quando esta carregado\n",
    "    while len(navegador.find_elements(By.ID, \"side\")) < 1:\n",
    "        time.sleep(1)\n",
    "    time.sleep(2)\n",
    "    \n",
    "    # Verica se o telefone é um numero válido\n",
    "    if len(navegador.find_elements(By.XPATH, '//*[@id=\"app\"]/div/span[2]/div/span/div/div/div/div/div/div[1]')) < 1:\n",
    "        # Envia mensagem\n",
    "        navegador.find_element(By.XPATH, '//*[@id=\"main\"]/footer/div[1]/div/span[2]/div/div[2]/div[2]/button/span').click()\n",
    "        time.sleep(5)\n",
    "   \n",
    "       "
   ]
  },
  {
   "cell_type": "code",
   "execution_count": null,
   "id": "e6bd91de",
   "metadata": {},
   "outputs": [],
   "source": []
  }
 ],
 "metadata": {
  "kernelspec": {
   "display_name": "Python 3 (ipykernel)",
   "language": "python",
   "name": "python3"
  },
  "language_info": {
   "codemirror_mode": {
    "name": "ipython",
    "version": 3
   },
   "file_extension": ".py",
   "mimetype": "text/x-python",
   "name": "python",
   "nbconvert_exporter": "python",
   "pygments_lexer": "ipython3",
   "version": "3.9.7"
  }
 },
 "nbformat": 4,
 "nbformat_minor": 5
}
