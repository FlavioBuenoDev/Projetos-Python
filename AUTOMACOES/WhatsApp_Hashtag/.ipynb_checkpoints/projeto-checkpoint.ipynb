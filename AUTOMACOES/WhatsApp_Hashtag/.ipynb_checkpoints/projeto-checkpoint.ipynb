{
 "cells": [
  {
   "cell_type": "code",
   "execution_count": 28,
   "id": "249d1d31",
   "metadata": {},
   "outputs": [],
   "source": [
    "from selenium import webdriver\n",
    "from selenium.webdriver.chrome.service import Service\n",
    "from webdriver_manager.chrome import ChromeDriverManager\n",
    "import time\n",
    "\n",
    "service = Service(ChromeDriverManager().install())\n",
    "nav = webdriver.Chrome(service=service)\n",
    "nav.get(\"https://web.whatsapp.com\")\n"
   ]
  },
  {
   "cell_type": "code",
   "execution_count": 50,
   "id": "9413997f",
   "metadata": {},
   "outputs": [],
   "source": [
    "from selenium.webdriver.common.keys import Keys\n",
    "from selenium.webdriver.common.action_chains import ActionChains\n",
    "import pyperclip\n",
    "\n",
    "mensagem = \"\"\"  Fala Dev !!!! \n",
    "                Inscreva se no canal\n",
    "\"\"\"\n",
    "\n",
    "lista_contatos = [\"Meu Numero\"]\n",
    "nav.find_element('xpath', '//*[@id=\"side\"]/div[1]/div/div/button/div[2]/span').click()\n",
    "nav.find_element('xpath', '//*[@id=\"side\"]/div[1]/div/div/div[2]/div/div[1]/p').send_keys(\"Meu Numero\")\n",
    "nav.find_element('xpath', '//*[@id=\"side\"]/div[1]/div/div/div[2]/div/div/p').send_keys(Keys.ENTER)\n",
    "time.sleep(2)\n",
    "\n",
    "# Escrever a mensagem\n",
    "pyperclip.copy(mensagem)\n",
    "nav.find_element('xpath', '//*[@id=\"main\"]/footer/div[1]/div/span[2]/div/div[2]/div[1]/div/div[1]/p').send_keys(Keys.CONTROL + \"v\")\n",
    "nav.find_element('xpath', '//*[@id=\"main\"]/footer/div[1]/div/span[2]/div/div[2]/div[2]/button').send_keys(Keys.ENTER)\n",
    "time.sleep(2)\n"
   ]
  },
  {
   "cell_type": "code",
   "execution_count": 53,
   "id": "166bac5d",
   "metadata": {},
   "outputs": [
    {
     "ename": "NameError",
     "evalue": "name 'mansagem' is not defined",
     "output_type": "error",
     "traceback": [
      "\u001b[1;31m---------------------------------------------------------------------------\u001b[0m",
      "\u001b[1;31mNameError\u001b[0m                                 Traceback (most recent call last)",
      "\u001b[1;32mC:\\Users\\FLAVIO~1.BUE\\AppData\\Local\\Temp/ipykernel_3008/3334137313.py\u001b[0m in \u001b[0;36m<module>\u001b[1;34m\u001b[0m\n\u001b[0;32m      3\u001b[0m \u001b[0mlista_elementos\u001b[0m \u001b[1;33m=\u001b[0m \u001b[0mnav\u001b[0m\u001b[1;33m.\u001b[0m\u001b[0mfind_elements\u001b[0m\u001b[1;33m(\u001b[0m\u001b[1;34m'class name'\u001b[0m\u001b[1;33m,\u001b[0m\u001b[1;34m'_2AOIt'\u001b[0m\u001b[1;33m)\u001b[0m\u001b[1;33m\u001b[0m\u001b[1;33m\u001b[0m\u001b[0m\n\u001b[0;32m      4\u001b[0m \u001b[1;32mfor\u001b[0m \u001b[0mitem\u001b[0m \u001b[1;32min\u001b[0m \u001b[0mlista_elementos\u001b[0m\u001b[1;33m:\u001b[0m\u001b[1;33m\u001b[0m\u001b[1;33m\u001b[0m\u001b[0m\n\u001b[1;32m----> 5\u001b[1;33m     \u001b[0mmensagem\u001b[0m \u001b[1;33m=\u001b[0m \u001b[0mmansagem\u001b[0m\u001b[1;33m.\u001b[0m\u001b[0mreplace\u001b[0m\u001b[1;33m(\u001b[0m\u001b[1;34m\"\\n\"\u001b[0m\u001b[1;33m,\u001b[0m \u001b[1;34m\"\"\u001b[0m\u001b[1;33m)\u001b[0m\u001b[1;33m\u001b[0m\u001b[1;33m\u001b[0m\u001b[0m\n\u001b[0m\u001b[0;32m      6\u001b[0m     \u001b[0mtexto\u001b[0m \u001b[1;33m=\u001b[0m \u001b[0mitem\u001b[0m\u001b[1;33m.\u001b[0m\u001b[0mtext\u001b[0m\u001b[1;33m.\u001b[0m\u001b[0mreplace\u001b[0m\u001b[1;33m(\u001b[0m\u001b[1;34m\"\\n\"\u001b[0m\u001b[1;33m,\u001b[0m \u001b[1;34m\"\"\u001b[0m\u001b[1;33m)\u001b[0m\u001b[1;33m\u001b[0m\u001b[1;33m\u001b[0m\u001b[0m\n\u001b[0;32m      7\u001b[0m     \u001b[1;32mif\u001b[0m \u001b[0mmensagem\u001b[0m \u001b[1;32min\u001b[0m \u001b[0mtexto\u001b[0m\u001b[1;33m:\u001b[0m\u001b[1;33m\u001b[0m\u001b[1;33m\u001b[0m\u001b[0m\n",
      "\u001b[1;31mNameError\u001b[0m: name 'mansagem' is not defined"
     ]
    }
   ],
   "source": [
    "# Encaminhar a mensagem\n",
    "lista_elementos = nav.find_elements('class name','_2AOIt')\n",
    "for item in lista_elementos:\n",
    "    mensagem = mansagem.replace(\"\\n\", \"\")\n",
    "    texto = item.text.replace(\"\\n\", \"\")\n",
    "    if mensagem in texto:\n",
    "        elemento = item\n",
    "        break\n",
    "        \n",
    "ActionChains(nav).move_to_element(elemento).perform()\n",
    "elemento.find_element('class name', '_3u9t-').click()\n",
    "nav.find_element('xpath', '//*[@id=\"app\"]/div/span[4]/div/ul/div/li[4]/div').click()\n",
    "#nav.find_element('xpath', '//*[@id=\"app\"]/div/span[2]/div/buttom[4]/span').click()"
   ]
  },
  {
   "cell_type": "code",
   "execution_count": null,
   "id": "c2997a8b",
   "metadata": {},
   "outputs": [],
   "source": []
  }
 ],
 "metadata": {
  "kernelspec": {
   "display_name": "Python 3 (ipykernel)",
   "language": "python",
   "name": "python3"
  },
  "language_info": {
   "codemirror_mode": {
    "name": "ipython",
    "version": 3
   },
   "file_extension": ".py",
   "mimetype": "text/x-python",
   "name": "python",
   "nbconvert_exporter": "python",
   "pygments_lexer": "ipython3",
   "version": "3.9.7"
  }
 },
 "nbformat": 4,
 "nbformat_minor": 5
}
