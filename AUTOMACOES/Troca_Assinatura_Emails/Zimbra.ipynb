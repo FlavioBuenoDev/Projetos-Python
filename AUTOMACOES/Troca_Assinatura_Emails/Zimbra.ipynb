{
 "cells": [
  {
   "cell_type": "code",
   "execution_count": null,
   "id": "99cb796a",
   "metadata": {},
   "outputs": [
    {
     "ename": "IndentationError",
     "evalue": "expected an indented block (Temp/ipykernel_7836/3301311458.py, line 26)",
     "output_type": "error",
     "traceback": [
      "\u001b[1;36m  File \u001b[1;32m\"C:\\Users\\FLAVIO~1.BUE\\AppData\\Local\\Temp/ipykernel_7836/3301311458.py\"\u001b[1;36m, line \u001b[1;32m26\u001b[0m\n\u001b[1;33m    # print(\"A tag <nobr> não foi encontrada na página.\")\u001b[0m\n\u001b[1;37m                                                         ^\u001b[0m\n\u001b[1;31mIndentationError\u001b[0m\u001b[1;31m:\u001b[0m expected an indented block\n"
     ]
    }
   ],
   "source": [
    "import requests\n",
    "from bs4 import BeautifulSoup\n",
    "\n",
    "# Faz a requisição HTTP para a página\n",
    "url = 'Email'  # Insira a URL da página que você deseja analisar\n",
    "response = requests.get(url)\n",
    "\n",
    "print(response)\n",
    "\n",
    "# Analisa o conteúdo HTML da página\n",
    "soup = BeautifulSoup(response.text, 'html.parser')\n",
    "\n",
    "# print(soup)\n",
    "\n",
    "# Localiza a tag <nobr> na página\n",
    "nobr_tag = soup.find('nobr')\n",
    "\n",
    "# Verifica se a tag <nobr> foi encontrada\n",
    "if nobr_tag:\n",
    "    # Extrai o texto da tag <nobr>\n",
    "    texto_nobr = nobr_tag.get_text()\n",
    "\n",
    "    # Imprime o texto coletado\n",
    "    # print(texto_nobr)\n",
    "else:\n",
    "    # print(\"A tag <nobr> não foi encontrada na página.\")\n",
    "    ...\n"
   ]
  },
  {
   "cell_type": "code",
   "execution_count": null,
   "id": "4e5a972f",
   "metadata": {},
   "outputs": [
    {
     "name": "stdout",
     "output_type": "stream",
     "text": [
      "Nenhum endereço de e-mail encontrado na página.\n"
     ]
    }
   ],
   "source": [
    "import requests\n",
    "import re\n",
    "\n",
    "# Faz a requisição HTTP para a página\n",
    "url = 'Email'  # Insira a URL da página que você deseja analisar\n",
    "response = requests.get(url)\n",
    "\n",
    "# Extrai os endereços de e-mail usando expressões regulares\n",
    "emails = re.findall(\n",
    "    r'\\b[A-Za-z0-9._%+-]+@[A-Za-z0-9.-]+\\.[A-Za-z]{2,}\\b', response.text)\n",
    "\n",
    "# Verifica se foram encontrados endereços de e-mail\n",
    "if emails:\n",
    "    print(\"Endereços de e-mail encontrados:\")\n",
    "    for email in emails:\n",
    "        print(email)\n",
    "else:\n",
    "    print(\"Nenhum endereço de e-mail encontrado na página.\")\n"
   ]
  },
  {
   "cell_type": "code",
   "execution_count": null,
   "id": "294cb7b0",
   "metadata": {},
   "outputs": [],
   "source": []
  }
 ],
 "metadata": {
  "kernelspec": {
   "display_name": "Python 3 (ipykernel)",
   "language": "python",
   "name": "python3"
  },
  "language_info": {
   "codemirror_mode": {
    "name": "ipython",
    "version": 3
   },
   "file_extension": ".py",
   "mimetype": "text/x-python",
   "name": "python",
   "nbconvert_exporter": "python",
   "pygments_lexer": "ipython3",
   "version": "3.9.7"
  }
 },
 "nbformat": 4,
 "nbformat_minor": 5
}
