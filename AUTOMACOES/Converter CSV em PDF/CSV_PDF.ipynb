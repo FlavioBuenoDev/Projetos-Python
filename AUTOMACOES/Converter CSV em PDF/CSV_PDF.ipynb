{
 "cells": [
  {
   "cell_type": "code",
   "execution_count": 2,
   "id": "122c2d57",
   "metadata": {
    "scrolled": true
   },
   "outputs": [
    {
     "name": "stdout",
     "output_type": "stream",
     "text": [
      "('teste', 'teste')\n",
      "('teste', 1)\n",
      "('teste', 2)\n"
     ]
    },
    {
     "data": {
      "text/plain": [
       "'\\n# Criar PDF\\npdf_filename = \\'relatorio.pdf\\'\\ndoc = SimpleDocTemplate(pdf_filename, pagesize=letter)\\nelements = []\\n\\n\\n\\n# Converter dados para uma tabela no PDF\\ntable = Table(data)\\nstyle = TableStyle([(\\'BACKGROUND\\', (0, 0), (-1, 0), colors.grey),\\n                    (\\'TEXTCOLOR\\', (0, 0), (-1, 0), colors.whitesmoke),\\n                    (\\'ALIGN\\', (0, 0), (-1, -1), \\'CENTER\\'),\\n                    (\\'FONTNAME\\', (0, 0), (-1, 0), \\'Helvetica-Bold\\'),\\n                    (\\'BOTTOMPADDING\\', (0, 0), (-1, 0), 12),\\n                    (\\'BACKGROUND\\', (0, 1), (-1, -1), colors.beige),\\n                    (\\'GRID\\', (0, 0), (-1, -1), 1, colors.black)])\\ntable.setStyle(style)\\nelements.append(table)\\n\\n# Adicionar a tabela ao PDF\\ndoc.build(elements)\\n\\nprint(f\\'O relatório foi criado e salvo como \"{pdf_filename}\"\\')\\n\\n'"
      ]
     },
     "execution_count": 2,
     "metadata": {},
     "output_type": "execute_result"
    }
   ],
   "source": [
    "from openpyxl import load_workbook\n",
    "from reportlab.lib.pagesizes import letter\n",
    "from reportlab.lib import colors\n",
    "from reportlab.platypus import SimpleDocTemplate, Table, TableStyle\n",
    "\n",
    "# Carregar dados do Excel\n",
    "workbook = load_workbook(\"arquivo.xlsx\")\n",
    "sheet = workbook.active\n",
    "\n",
    "data = []\n",
    "for row in sheet.iter_rows(values_only=True):\n",
    "    data.append(row)\n",
    "\n",
    "for dados in data:\n",
    "    print(dados)\n",
    "\n",
    "\n",
    "\"\"\"\n",
    "# Criar PDF\n",
    "pdf_filename = 'relatorio.pdf'\n",
    "doc = SimpleDocTemplate(pdf_filename, pagesize=letter)\n",
    "elements = []\n",
    "\n",
    "\n",
    "\n",
    "# Converter dados para uma tabela no PDF\n",
    "table = Table(data)\n",
    "style = TableStyle([('BACKGROUND', (0, 0), (-1, 0), colors.grey),\n",
    "                    ('TEXTCOLOR', (0, 0), (-1, 0), colors.whitesmoke),\n",
    "                    ('ALIGN', (0, 0), (-1, -1), 'CENTER'),\n",
    "                    ('FONTNAME', (0, 0), (-1, 0), 'Helvetica-Bold'),\n",
    "                    ('BOTTOMPADDING', (0, 0), (-1, 0), 12),\n",
    "                    ('BACKGROUND', (0, 1), (-1, -1), colors.beige),\n",
    "                    ('GRID', (0, 0), (-1, -1), 1, colors.black)])\n",
    "table.setStyle(style)\n",
    "elements.append(table)\n",
    "\n",
    "# Adicionar a tabela ao PDF\n",
    "doc.build(elements)\n",
    "\n",
    "print(f'O relatório foi criado e salvo como \"{pdf_filename}\"')\n",
    "\n",
    "\"\"\""
   ]
  },
  {
   "cell_type": "code",
   "execution_count": null,
   "id": "80eb12b9",
   "metadata": {},
   "outputs": [],
   "source": []
  }
 ],
 "metadata": {
  "kernelspec": {
   "display_name": "Python 3 (ipykernel)",
   "language": "python",
   "name": "python3"
  },
  "language_info": {
   "codemirror_mode": {
    "name": "ipython",
    "version": 3
   },
   "file_extension": ".py",
   "mimetype": "text/x-python",
   "name": "python",
   "nbconvert_exporter": "python",
   "pygments_lexer": "ipython3",
   "version": "3.9.7"
  }
 },
 "nbformat": 4,
 "nbformat_minor": 5
}
