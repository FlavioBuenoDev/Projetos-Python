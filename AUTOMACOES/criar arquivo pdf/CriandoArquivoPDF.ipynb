{
 "cells": [
  {
   "cell_type": "code",
   "execution_count": 27,
   "id": "1852da4c",
   "metadata": {},
   "outputs": [],
   "source": [
    "from tkinter import *\n",
    "from tkinter import ttk\n",
    "from tkinter import messagebox\n",
    "from reportlab.pdfgen import canvas\n",
    "from reportlab.lib.pagesizes import A4\n",
    "import os\n",
    "\n",
    "def mp(mm):\n",
    "    return mm/0.352777\n",
    "\n",
    "try:\n",
    "    # Get the directory of the current script if __file__ is defined\n",
    "    pastaApp = os.path.dirname(os.path.abspath(__file__))\n",
    "except NameError:\n",
    "    # If __file__ is not defined, use the current working directory\n",
    "    pastaApp = os.getcwd()\n",
    "    \n",
    " # conversão de pontos para Milimetros\n",
    "\n",
    "\n",
    "def criarPDF():\n",
    "    try:\n",
    "        cnv=canvas.Canvas(pastaApp + \"\\\\arquivop.pdf\", pagesize=A4)\n",
    "        cnv.drawImage(pastaApp+\"\\\\logo.png\",mp(0),mp(207), width=100,height=70)\n",
    "        cnv.drawString(mp(100),mp(100),\"Arquivo PDF\")\n",
    "        cnv.save()\n",
    "    except:\n",
    "        messagebox.showinfo(title=\"ERRO\", message=\"Erro ao criar arquivo PDF\")\n",
    "        return\n",
    "    messagebox.showinfo(title=\"PDF\", message=\"PDF Criado !\")\n",
    "        \n",
    "app = Tk()\n",
    "app.title(\"Criando pdf\")\n",
    "app.geometry(\"600x450\")\n",
    "\n",
    "btn_criarPDF = Button(app, text=\"Criar PDF\", command=criarPDF)\n",
    "btn_criarPDF.pack(side=\"left\", padx=10)\n",
    "\n",
    "app.mainloop()\n"
   ]
  },
  {
   "cell_type": "code",
   "execution_count": null,
   "id": "15134881",
   "metadata": {},
   "outputs": [],
   "source": []
  }
 ],
 "metadata": {
  "kernelspec": {
   "display_name": "Python 3 (ipykernel)",
   "language": "python",
   "name": "python3"
  },
  "language_info": {
   "codemirror_mode": {
    "name": "ipython",
    "version": 3
   },
   "file_extension": ".py",
   "mimetype": "text/x-python",
   "name": "python",
   "nbconvert_exporter": "python",
   "pygments_lexer": "ipython3",
   "version": "3.9.7"
  }
 },
 "nbformat": 4,
 "nbformat_minor": 5
}
