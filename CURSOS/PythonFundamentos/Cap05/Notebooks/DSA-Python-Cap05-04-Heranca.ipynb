{
 "cells": [
  {
   "cell_type": "markdown",
   "id": "297747d8",
   "metadata": {},
   "source": [
    "# Data Science Academy - Python Funcamenteos - Capitulo 5"
   ]
  },
  {
   "cell_type": "markdown",
   "id": "d3f9827f",
   "metadata": {},
   "source": [
    "# Herança"
   ]
  },
  {
   "cell_type": "code",
   "execution_count": 1,
   "id": "66c1fdb9",
   "metadata": {},
   "outputs": [],
   "source": [
    "# Criando a classe Animal - Super-Classe\n",
    "class Animal():\n",
    "    \n",
    "    def __init__(self):\n",
    "        print(\"Animal criado\")\n",
    "     \n",
    "    def Identif(self):\n",
    "        print(\"Animal\")\n",
    "        \n",
    "    def comer(self):\n",
    "        print(\"Comendo\")"
   ]
  },
  {
   "cell_type": "code",
   "execution_count": 2,
   "id": "1ee81517",
   "metadata": {},
   "outputs": [],
   "source": [
    "# Criando a classe Cachorro - Sub-classe\n",
    "class Cachorro(Animal):\n",
    "    \n",
    "    def __init__(self):\n",
    "        #Pede para executar o construtor da classe Animal\n",
    "        Animal.__init__(self)\n",
    "        print(\"Objeto Cachorro Criado\")\n",
    "        \n",
    "    def Identif(self):\n",
    "        print(\"Cachorro\")\n",
    "     \n",
    "    def latir(self):\n",
    "        print(\"Au AU! \")"
   ]
  },
  {
   "cell_type": "code",
   "execution_count": 3,
   "id": "d0c84130",
   "metadata": {},
   "outputs": [
    {
     "name": "stdout",
     "output_type": "stream",
     "text": [
      "Animal criado\n",
      "Objeto Cachorro Criado\n"
     ]
    }
   ],
   "source": [
    "# Criando um objeto (Instanciando a Classe)\n",
    "rex = Cachorro()"
   ]
  },
  {
   "cell_type": "code",
   "execution_count": 6,
   "id": "e093c274",
   "metadata": {},
   "outputs": [
    {
     "name": "stdout",
     "output_type": "stream",
     "text": [
      "Cachorro\n"
     ]
    }
   ],
   "source": [
    "# Executando o método da classe Cachorro (sub-classe)\n",
    "rex.Identif()"
   ]
  },
  {
   "cell_type": "code",
   "execution_count": 7,
   "id": "431be0e8",
   "metadata": {},
   "outputs": [
    {
     "name": "stdout",
     "output_type": "stream",
     "text": [
      "Comendo\n"
     ]
    }
   ],
   "source": [
    "# Executando o método da classe Animal (super-classe)\n",
    "rex.comer()"
   ]
  },
  {
   "cell_type": "code",
   "execution_count": 8,
   "id": "332d4e81",
   "metadata": {},
   "outputs": [
    {
     "name": "stdout",
     "output_type": "stream",
     "text": [
      "Au AU! \n"
     ]
    }
   ],
   "source": [
    "# Executando o método da classe Cachorro (sub-classe)\n",
    "rex.latir()"
   ]
  }
 ],
 "metadata": {
  "kernelspec": {
   "display_name": "Python 3 (ipykernel)",
   "language": "python",
   "name": "python3"
  },
  "language_info": {
   "codemirror_mode": {
    "name": "ipython",
    "version": 3
   },
   "file_extension": ".py",
   "mimetype": "text/x-python",
   "name": "python",
   "nbconvert_exporter": "python",
   "pygments_lexer": "ipython3",
   "version": "3.9.7"
  }
 },
 "nbformat": 4,
 "nbformat_minor": 5
}
