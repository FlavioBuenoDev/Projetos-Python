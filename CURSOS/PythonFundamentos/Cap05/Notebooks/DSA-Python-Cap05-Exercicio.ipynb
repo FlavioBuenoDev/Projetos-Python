{
 "cells": [
  {
   "cell_type": "code",
   "execution_count": 8,
   "id": "bd9f7fc1",
   "metadata": {},
   "outputs": [
    {
     "name": "stdout",
     "output_type": "stream",
     "text": [
      "10 21\n"
     ]
    }
   ],
   "source": [
    "# Exercício 1 - Crie um objeto a partir da classe abaixo, chamado roc1, passando 2 parâmetros e depois faça uma chamada\n",
    "# aos atributos e métodos\n",
    "from math import sqrt\n",
    "\n",
    "class Rocket():\n",
    "     \n",
    "    def __init__(self, x=0, y=0):\n",
    "        self.x = x\n",
    "        self.y = y\n",
    "        \n",
    "    def move_rocket(self, x_increment=0, y_increment=1):\n",
    "        self.x += x_increment\n",
    "        self.y += y_increment\n",
    "        \n",
    "    def print_rocket(self):\n",
    "        print(self.x, self.y)\n",
    "        \n",
    "   \n",
    "roc1 = Rocket(10,20)\n",
    "roc1.x\n",
    "roc1.y\n",
    "roc1.move_rocket()\n",
    "roc1.print_rocket()"
   ]
  },
  {
   "cell_type": "code",
   "execution_count": 12,
   "id": "2aa19c03",
   "metadata": {},
   "outputs": [
    {
     "ename": "SyntaxError",
     "evalue": "invalid syntax (Temp/ipykernel_17992/3822502289.py, line 7)",
     "output_type": "error",
     "traceback": [
      "\u001b[1;36m  File \u001b[1;32m\"C:\\Users\\FLAVIO~1.BUE\\AppData\\Local\\Temp/ipykernel_17992/3822502289.py\"\u001b[1;36m, line \u001b[1;32m7\u001b[0m\n\u001b[1;33m    def __init__(self, nome, cidade, telefone, email)\u001b[0m\n\u001b[1;37m                                                     ^\u001b[0m\n\u001b[1;31mSyntaxError\u001b[0m\u001b[1;31m:\u001b[0m invalid syntax\n"
     ]
    }
   ],
   "source": [
    "# Exercício 2 - Crie uma classe chamada Pessoa() com os atributos: nome, cidade, telefone e e-mail. Use pelo menos 2\n",
    "# métodos especiais na sua classe. Crie um objeto da sua classe e faça uma chamada a pelo menos um dos seus métodos\n",
    "# especiais\n",
    "\n",
    "class Pessoa():\n",
    "    \n",
    "    def __init__(self, nome, cidade, telefone, email)\n",
    "    print(\"Classe criada\")\n",
    "    self.nome = nome\n",
    "    self.cidade = cidade\n",
    "    self.telefone = telefone\n",
    "    self.email = email\n",
    "    \n",
    "    def ___str__(self):\n",
    "        return 'nome: %d, cidade: %d, telefone: %d, email: %d ' %(nome, cidade, telefone, email)\n",
    "    \n",
    "    def __len__(sef):\n",
    "        return len(self.nome)\n",
    "    \n",
    "pess = Pessoa()\n"
   ]
  },
  {
   "cell_type": "code",
   "execution_count": 14,
   "id": "d8efaf89",
   "metadata": {},
   "outputs": [
    {
     "data": {
      "text/plain": [
       "'Maria'"
      ]
     },
     "execution_count": 14,
     "metadata": {},
     "output_type": "execute_result"
    }
   ],
   "source": [
    "str(\"Maria\")"
   ]
  },
  {
   "cell_type": "code",
   "execution_count": 15,
   "id": "5976e799",
   "metadata": {},
   "outputs": [
    {
     "data": {
      "text/plain": [
       "5"
      ]
     },
     "execution_count": 15,
     "metadata": {},
     "output_type": "execute_result"
    }
   ],
   "source": [
    "len(\"Maria\")"
   ]
  },
  {
   "cell_type": "code",
   "execution_count": 177,
   "id": "a3bf4421",
   "metadata": {},
   "outputs": [],
   "source": [
    "# Exercício 3 - Crie a classe Smartphone com 2 atributos, tamanho e interface e crie a classe MP3Player com os \n",
    "# atributos capacidade. A classe MP3player deve herdar os atributos da classe Smartphone.\n",
    "class Smartphone():\n",
    "    \n",
    "    def __init__(self, tamanho, interface):\n",
    "        print(\"Classe Smartphone criada\")\n",
    "        self.tamanho = tamanho\n",
    "        self.interface = interface"
   ]
  },
  {
   "cell_type": "code",
   "execution_count": 195,
   "id": "cba07514",
   "metadata": {},
   "outputs": [],
   "source": [
    "class MP3Player(Smartphone):\n",
    "    \n",
    "    def __init__(self):\n",
    "        #forma como aprendi no curso\n",
    "        Smartphone.__init__(\"10GB\", \"Android\")\n",
    "        \n",
    "        # Abaixo, a forma como funciona\n",
    "        #super().__init__(\"10GB\", \"Android\")\n",
    "      "
   ]
  },
  {
   "cell_type": "code",
   "execution_count": 196,
   "id": "aee86b25",
   "metadata": {},
   "outputs": [
    {
     "ename": "TypeError",
     "evalue": "__init__() missing 1 required positional argument: 'interface'",
     "output_type": "error",
     "traceback": [
      "\u001b[1;31m---------------------------------------------------------------------------\u001b[0m",
      "\u001b[1;31mTypeError\u001b[0m                                 Traceback (most recent call last)",
      "\u001b[1;32mC:\\Users\\FLAVIO~1.BUE\\AppData\\Local\\Temp/ipykernel_17992/2489224576.py\u001b[0m in \u001b[0;36m<module>\u001b[1;34m\u001b[0m\n\u001b[1;32m----> 1\u001b[1;33m \u001b[0mmp\u001b[0m \u001b[1;33m=\u001b[0m \u001b[0mMP3Player\u001b[0m\u001b[1;33m(\u001b[0m\u001b[1;33m)\u001b[0m\u001b[1;33m\u001b[0m\u001b[1;33m\u001b[0m\u001b[0m\n\u001b[0m",
      "\u001b[1;32mC:\\Users\\FLAVIO~1.BUE\\AppData\\Local\\Temp/ipykernel_17992/2060342231.py\u001b[0m in \u001b[0;36m__init__\u001b[1;34m(self)\u001b[0m\n\u001b[0;32m      2\u001b[0m \u001b[1;33m\u001b[0m\u001b[0m\n\u001b[0;32m      3\u001b[0m     \u001b[1;32mdef\u001b[0m \u001b[0m__init__\u001b[0m\u001b[1;33m(\u001b[0m\u001b[0mself\u001b[0m\u001b[1;33m)\u001b[0m\u001b[1;33m:\u001b[0m\u001b[1;33m\u001b[0m\u001b[1;33m\u001b[0m\u001b[0m\n\u001b[1;32m----> 4\u001b[1;33m         \u001b[0mSmartphone\u001b[0m\u001b[1;33m.\u001b[0m\u001b[0m__init__\u001b[0m\u001b[1;33m(\u001b[0m\u001b[1;34m\"10GB\"\u001b[0m\u001b[1;33m,\u001b[0m \u001b[1;34m\"Android\"\u001b[0m\u001b[1;33m)\u001b[0m\u001b[1;33m\u001b[0m\u001b[1;33m\u001b[0m\u001b[0m\n\u001b[0m\u001b[0;32m      5\u001b[0m         \u001b[1;31m#super().__init__(\"10GB\", \"Android\")\u001b[0m\u001b[1;33m\u001b[0m\u001b[1;33m\u001b[0m\u001b[0m\n\u001b[0;32m      6\u001b[0m \u001b[1;33m\u001b[0m\u001b[0m\n",
      "\u001b[1;31mTypeError\u001b[0m: __init__() missing 1 required positional argument: 'interface'"
     ]
    }
   ],
   "source": [
    "mp = MP3Player()"
   ]
  },
  {
   "cell_type": "code",
   "execution_count": 105,
   "id": "ea0928be",
   "metadata": {},
   "outputs": [
    {
     "name": "stdout",
     "output_type": "stream",
     "text": [
      "Alice\n"
     ]
    }
   ],
   "source": [
    "class Employee():\n",
    "    #specify self as first arg\n",
    "    def get_name(self, name):\n",
    "        return name\n",
    "\n",
    "\n",
    "emp = Employee()\n",
    "\n",
    "print(emp.get_name('Alice'))"
   ]
  },
  {
   "cell_type": "code",
   "execution_count": 181,
   "id": "a509fa4e",
   "metadata": {},
   "outputs": [
    {
     "name": "stdout",
     "output_type": "stream",
     "text": [
      "Cat Name is Milo.\n",
      "Milo color is white.\n"
     ]
    }
   ],
   "source": [
    "class Animal(object):\n",
    "  def __init__(self, animalName):\n",
    "    print(animalName, 'color is white.')\n",
    "\n",
    "class Cat(Animal):\n",
    "  def __init__(self):\n",
    "    print('Cat Name is Milo.')\n",
    "    super().__init__('Milo')\n",
    "    \n",
    "catobject = Cat()"
   ]
  }
 ],
 "metadata": {
  "kernelspec": {
   "display_name": "Python 3 (ipykernel)",
   "language": "python",
   "name": "python3"
  },
  "language_info": {
   "codemirror_mode": {
    "name": "ipython",
    "version": 3
   },
   "file_extension": ".py",
   "mimetype": "text/x-python",
   "name": "python",
   "nbconvert_exporter": "python",
   "pygments_lexer": "ipython3",
   "version": "3.9.7"
  }
 },
 "nbformat": 4,
 "nbformat_minor": 5
}
