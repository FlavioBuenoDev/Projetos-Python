{
 "cells": [
  {
   "cell_type": "code",
   "execution_count": 35,
   "metadata": {},
   "outputs": [
    {
     "data": {
      "text/html": [
       "<div>\n",
       "<style scoped>\n",
       "    .dataframe tbody tr th:only-of-type {\n",
       "        vertical-align: middle;\n",
       "    }\n",
       "\n",
       "    .dataframe tbody tr th {\n",
       "        vertical-align: top;\n",
       "    }\n",
       "\n",
       "    .dataframe thead th {\n",
       "        text-align: right;\n",
       "    }\n",
       "</style>\n",
       "<table border=\"1\" class=\"dataframe\">\n",
       "  <thead>\n",
       "    <tr style=\"text-align: right;\">\n",
       "      <th></th>\n",
       "      <th>idade</th>\n",
       "      <th>sexo</th>\n",
       "      <th>tempo_como_cliente</th>\n",
       "      <th>frequencia_uso</th>\n",
       "      <th>ligacoes_callcenter</th>\n",
       "      <th>dias_atraso</th>\n",
       "      <th>assinatura</th>\n",
       "      <th>duracao_contrato</th>\n",
       "      <th>total_gasto</th>\n",
       "      <th>meses_ultima_interacao</th>\n",
       "      <th>cancelou</th>\n",
       "    </tr>\n",
       "  </thead>\n",
       "  <tbody>\n",
       "    <tr>\n",
       "      <th>0</th>\n",
       "      <td>23.0</td>\n",
       "      <td>Male</td>\n",
       "      <td>13.0</td>\n",
       "      <td>22.0</td>\n",
       "      <td>2.0</td>\n",
       "      <td>1.0</td>\n",
       "      <td>Standard</td>\n",
       "      <td>Annual</td>\n",
       "      <td>909.58</td>\n",
       "      <td>23.0</td>\n",
       "      <td>0.0</td>\n",
       "    </tr>\n",
       "    <tr>\n",
       "      <th>1</th>\n",
       "      <td>49.0</td>\n",
       "      <td>Male</td>\n",
       "      <td>55.0</td>\n",
       "      <td>16.0</td>\n",
       "      <td>3.0</td>\n",
       "      <td>6.0</td>\n",
       "      <td>Premium</td>\n",
       "      <td>Monthly</td>\n",
       "      <td>207.00</td>\n",
       "      <td>29.0</td>\n",
       "      <td>1.0</td>\n",
       "    </tr>\n",
       "    <tr>\n",
       "      <th>2</th>\n",
       "      <td>30.0</td>\n",
       "      <td>Male</td>\n",
       "      <td>7.0</td>\n",
       "      <td>1.0</td>\n",
       "      <td>0.0</td>\n",
       "      <td>8.0</td>\n",
       "      <td>Basic</td>\n",
       "      <td>Annual</td>\n",
       "      <td>768.78</td>\n",
       "      <td>7.0</td>\n",
       "      <td>0.0</td>\n",
       "    </tr>\n",
       "    <tr>\n",
       "      <th>3</th>\n",
       "      <td>26.0</td>\n",
       "      <td>Male</td>\n",
       "      <td>40.0</td>\n",
       "      <td>5.0</td>\n",
       "      <td>3.0</td>\n",
       "      <td>8.0</td>\n",
       "      <td>Premium</td>\n",
       "      <td>Annual</td>\n",
       "      <td>398.00</td>\n",
       "      <td>12.0</td>\n",
       "      <td>1.0</td>\n",
       "    </tr>\n",
       "    <tr>\n",
       "      <th>4</th>\n",
       "      <td>27.0</td>\n",
       "      <td>Female</td>\n",
       "      <td>17.0</td>\n",
       "      <td>30.0</td>\n",
       "      <td>5.0</td>\n",
       "      <td>6.0</td>\n",
       "      <td>Basic</td>\n",
       "      <td>Annual</td>\n",
       "      <td>507.00</td>\n",
       "      <td>15.0</td>\n",
       "      <td>1.0</td>\n",
       "    </tr>\n",
       "    <tr>\n",
       "      <th>...</th>\n",
       "      <td>...</td>\n",
       "      <td>...</td>\n",
       "      <td>...</td>\n",
       "      <td>...</td>\n",
       "      <td>...</td>\n",
       "      <td>...</td>\n",
       "      <td>...</td>\n",
       "      <td>...</td>\n",
       "      <td>...</td>\n",
       "      <td>...</td>\n",
       "      <td>...</td>\n",
       "    </tr>\n",
       "    <tr>\n",
       "      <th>49995</th>\n",
       "      <td>62.0</td>\n",
       "      <td>Female</td>\n",
       "      <td>35.0</td>\n",
       "      <td>7.0</td>\n",
       "      <td>2.0</td>\n",
       "      <td>8.0</td>\n",
       "      <td>Basic</td>\n",
       "      <td>Annual</td>\n",
       "      <td>232.00</td>\n",
       "      <td>15.0</td>\n",
       "      <td>1.0</td>\n",
       "    </tr>\n",
       "    <tr>\n",
       "      <th>49996</th>\n",
       "      <td>36.0</td>\n",
       "      <td>Male</td>\n",
       "      <td>43.0</td>\n",
       "      <td>21.0</td>\n",
       "      <td>2.0</td>\n",
       "      <td>30.0</td>\n",
       "      <td>Basic</td>\n",
       "      <td>Quarterly</td>\n",
       "      <td>928.00</td>\n",
       "      <td>30.0</td>\n",
       "      <td>1.0</td>\n",
       "    </tr>\n",
       "    <tr>\n",
       "      <th>49997</th>\n",
       "      <td>55.0</td>\n",
       "      <td>Male</td>\n",
       "      <td>42.0</td>\n",
       "      <td>8.0</td>\n",
       "      <td>1.0</td>\n",
       "      <td>12.0</td>\n",
       "      <td>Basic</td>\n",
       "      <td>Monthly</td>\n",
       "      <td>326.00</td>\n",
       "      <td>27.0</td>\n",
       "      <td>1.0</td>\n",
       "    </tr>\n",
       "    <tr>\n",
       "      <th>49998</th>\n",
       "      <td>40.0</td>\n",
       "      <td>Female</td>\n",
       "      <td>14.0</td>\n",
       "      <td>19.0</td>\n",
       "      <td>1.0</td>\n",
       "      <td>17.0</td>\n",
       "      <td>Premium</td>\n",
       "      <td>Quarterly</td>\n",
       "      <td>826.76</td>\n",
       "      <td>12.0</td>\n",
       "      <td>0.0</td>\n",
       "    </tr>\n",
       "    <tr>\n",
       "      <th>49999</th>\n",
       "      <td>64.0</td>\n",
       "      <td>Male</td>\n",
       "      <td>41.0</td>\n",
       "      <td>29.0</td>\n",
       "      <td>5.0</td>\n",
       "      <td>9.0</td>\n",
       "      <td>Basic</td>\n",
       "      <td>Quarterly</td>\n",
       "      <td>700.38</td>\n",
       "      <td>18.0</td>\n",
       "      <td>1.0</td>\n",
       "    </tr>\n",
       "  </tbody>\n",
       "</table>\n",
       "<p>50000 rows × 11 columns</p>\n",
       "</div>"
      ],
      "text/plain": [
       "       idade    sexo  tempo_como_cliente  frequencia_uso  ligacoes_callcenter  \\\n",
       "0       23.0    Male                13.0            22.0                  2.0   \n",
       "1       49.0    Male                55.0            16.0                  3.0   \n",
       "2       30.0    Male                 7.0             1.0                  0.0   \n",
       "3       26.0    Male                40.0             5.0                  3.0   \n",
       "4       27.0  Female                17.0            30.0                  5.0   \n",
       "...      ...     ...                 ...             ...                  ...   \n",
       "49995   62.0  Female                35.0             7.0                  2.0   \n",
       "49996   36.0    Male                43.0            21.0                  2.0   \n",
       "49997   55.0    Male                42.0             8.0                  1.0   \n",
       "49998   40.0  Female                14.0            19.0                  1.0   \n",
       "49999   64.0    Male                41.0            29.0                  5.0   \n",
       "\n",
       "       dias_atraso assinatura duracao_contrato  total_gasto  \\\n",
       "0              1.0   Standard           Annual       909.58   \n",
       "1              6.0    Premium          Monthly       207.00   \n",
       "2              8.0      Basic           Annual       768.78   \n",
       "3              8.0    Premium           Annual       398.00   \n",
       "4              6.0      Basic           Annual       507.00   \n",
       "...            ...        ...              ...          ...   \n",
       "49995          8.0      Basic           Annual       232.00   \n",
       "49996         30.0      Basic        Quarterly       928.00   \n",
       "49997         12.0      Basic          Monthly       326.00   \n",
       "49998         17.0    Premium        Quarterly       826.76   \n",
       "49999          9.0      Basic        Quarterly       700.38   \n",
       "\n",
       "       meses_ultima_interacao  cancelou  \n",
       "0                        23.0       0.0  \n",
       "1                        29.0       1.0  \n",
       "2                         7.0       0.0  \n",
       "3                        12.0       1.0  \n",
       "4                        15.0       1.0  \n",
       "...                       ...       ...  \n",
       "49995                    15.0       1.0  \n",
       "49996                    30.0       1.0  \n",
       "49997                    27.0       1.0  \n",
       "49998                    12.0       0.0  \n",
       "49999                    18.0       1.0  \n",
       "\n",
       "[50000 rows x 11 columns]"
      ]
     },
     "metadata": {},
     "output_type": "display_data"
    }
   ],
   "source": [
    "# %pip install plotly\n",
    "\n",
    "'''\n",
    "Passo a passo\n",
    "Passo 1: Importar a BD\n",
    "'''\n",
    "import pandas as pd\n",
    "tabela = pd.read_csv('cancelamentos_sample.csv')\n",
    "tabela = tabela.drop(columns=\"CustomerID\") \n",
    "\n",
    "\n",
    "# Passo 2: Visualizxar a BD\n",
    "#display(tabela.info())\n",
    "display(tabela)\n",
    "\n",
    "\n",
    "\n"
   ]
  },
  {
   "cell_type": "code",
   "execution_count": 36,
   "metadata": {},
   "outputs": [
    {
     "name": "stdout",
     "output_type": "stream",
     "text": [
      "<class 'pandas.core.frame.DataFrame'>\n",
      "Index: 49996 entries, 0 to 49999\n",
      "Data columns (total 11 columns):\n",
      " #   Column                  Non-Null Count  Dtype  \n",
      "---  ------                  --------------  -----  \n",
      " 0   idade                   49996 non-null  float64\n",
      " 1   sexo                    49996 non-null  object \n",
      " 2   tempo_como_cliente      49996 non-null  float64\n",
      " 3   frequencia_uso          49996 non-null  float64\n",
      " 4   ligacoes_callcenter     49996 non-null  float64\n",
      " 5   dias_atraso             49996 non-null  float64\n",
      " 6   assinatura              49996 non-null  object \n",
      " 7   duracao_contrato        49996 non-null  object \n",
      " 8   total_gasto             49996 non-null  float64\n",
      " 9   meses_ultima_interacao  49996 non-null  float64\n",
      " 10  cancelou                49996 non-null  float64\n",
      "dtypes: float64(8), object(3)\n",
      "memory usage: 4.6+ MB\n"
     ]
    },
    {
     "data": {
      "text/plain": [
       "None"
      ]
     },
     "metadata": {},
     "output_type": "display_data"
    }
   ],
   "source": [
    "# Passo 3: Corrigir os erros da BD\n",
    "# Valores Vazio\n",
    "tabela = tabela.dropna()\n",
    "display(tabela.info())"
   ]
  },
  {
   "cell_type": "code",
   "execution_count": 37,
   "metadata": {},
   "outputs": [
    {
     "data": {
      "text/plain": [
       "cancelou\n",
       "1.0    28393\n",
       "0.0    21603\n",
       "Name: count, dtype: int64"
      ]
     },
     "metadata": {},
     "output_type": "display_data"
    },
    {
     "data": {
      "text/plain": [
       "cancelou\n",
       "1.0    56.8%\n",
       "0.0    43.2%\n",
       "Name: proportion, dtype: object"
      ]
     },
     "metadata": {},
     "output_type": "display_data"
    }
   ],
   "source": [
    "# Passo 4: Primeira analise do cancelamento dos clientes (qual o % de clientes que cancelou)\n",
    "display(tabela[\"cancelou\"].value_counts())\n",
    "# porcentagem de quantidade de cancelamento\n",
    "display(tabela[\"cancelou\"].value_counts(normalize=True).map(\"{:.1%}\".format))\n"
   ]
  },
  {
   "cell_type": "code",
   "execution_count": 38,
   "metadata": {},
   "outputs": [
    {
     "data": {
      "text/plain": [
       "duracao_contrato\n",
       "Annual       20156\n",
       "Quarterly    19956\n",
       "Monthly       9884\n",
       "Name: count, dtype: int64"
      ]
     },
     "metadata": {},
     "output_type": "display_data"
    },
    {
     "data": {
      "text/plain": [
       "duracao_contrato\n",
       "Annual       40.3%\n",
       "Quarterly    39.9%\n",
       "Monthly      19.8%\n",
       "Name: proportion, dtype: object"
      ]
     },
     "metadata": {},
     "output_type": "display_data"
    }
   ],
   "source": [
    "# Duraçãod e contrato\n",
    "display(tabela[\"duracao_contrato\"].value_counts())\n",
    "display(tabela[\"duracao_contrato\"].value_counts(normalize=True).map(\"{:.1%}\".format))"
   ]
  },
  {
   "cell_type": "code",
   "execution_count": 39,
   "metadata": {},
   "outputs": [
    {
     "data": {
      "text/html": [
       "<div>\n",
       "<style scoped>\n",
       "    .dataframe tbody tr th:only-of-type {\n",
       "        vertical-align: middle;\n",
       "    }\n",
       "\n",
       "    .dataframe tbody tr th {\n",
       "        vertical-align: top;\n",
       "    }\n",
       "\n",
       "    .dataframe thead th {\n",
       "        text-align: right;\n",
       "    }\n",
       "</style>\n",
       "<table border=\"1\" class=\"dataframe\">\n",
       "  <thead>\n",
       "    <tr style=\"text-align: right;\">\n",
       "      <th></th>\n",
       "      <th>idade</th>\n",
       "      <th>tempo_como_cliente</th>\n",
       "      <th>frequencia_uso</th>\n",
       "      <th>ligacoes_callcenter</th>\n",
       "      <th>dias_atraso</th>\n",
       "      <th>total_gasto</th>\n",
       "      <th>meses_ultima_interacao</th>\n",
       "      <th>cancelou</th>\n",
       "    </tr>\n",
       "    <tr>\n",
       "      <th>duracao_contrato</th>\n",
       "      <th></th>\n",
       "      <th></th>\n",
       "      <th></th>\n",
       "      <th></th>\n",
       "      <th></th>\n",
       "      <th></th>\n",
       "      <th></th>\n",
       "      <th></th>\n",
       "    </tr>\n",
       "  </thead>\n",
       "  <tbody>\n",
       "    <tr>\n",
       "      <th>Annual</th>\n",
       "      <td>38.783985</td>\n",
       "      <td>31.416452</td>\n",
       "      <td>15.910449</td>\n",
       "      <td>3.277585</td>\n",
       "      <td>12.533985</td>\n",
       "      <td>650.925840</td>\n",
       "      <td>14.231544</td>\n",
       "      <td>0.464080</td>\n",
       "    </tr>\n",
       "    <tr>\n",
       "      <th>Monthly</th>\n",
       "      <td>41.428470</td>\n",
       "      <td>30.677964</td>\n",
       "      <td>15.577600</td>\n",
       "      <td>4.923917</td>\n",
       "      <td>15.078814</td>\n",
       "      <td>547.508921</td>\n",
       "      <td>15.392655</td>\n",
       "      <td>1.000000</td>\n",
       "    </tr>\n",
       "    <tr>\n",
       "      <th>Quarterly</th>\n",
       "      <td>38.833935</td>\n",
       "      <td>31.522099</td>\n",
       "      <td>15.842504</td>\n",
       "      <td>3.256113</td>\n",
       "      <td>12.480006</td>\n",
       "      <td>654.102443</td>\n",
       "      <td>14.364602</td>\n",
       "      <td>0.458759</td>\n",
       "    </tr>\n",
       "  </tbody>\n",
       "</table>\n",
       "</div>"
      ],
      "text/plain": [
       "                      idade  tempo_como_cliente  frequencia_uso  \\\n",
       "duracao_contrato                                                  \n",
       "Annual            38.783985           31.416452       15.910449   \n",
       "Monthly           41.428470           30.677964       15.577600   \n",
       "Quarterly         38.833935           31.522099       15.842504   \n",
       "\n",
       "                  ligacoes_callcenter  dias_atraso  total_gasto  \\\n",
       "duracao_contrato                                                  \n",
       "Annual                       3.277585    12.533985   650.925840   \n",
       "Monthly                      4.923917    15.078814   547.508921   \n",
       "Quarterly                    3.256113    12.480006   654.102443   \n",
       "\n",
       "                  meses_ultima_interacao  cancelou  \n",
       "duracao_contrato                                    \n",
       "Annual                         14.231544  0.464080  \n",
       "Monthly                        15.392655  1.000000  \n",
       "Quarterly                      14.364602  0.458759  "
      ]
     },
     "metadata": {},
     "output_type": "display_data"
    }
   ],
   "source": [
    " #agrupamento\n",
    "agrupamento = tabela.groupby(\"duracao_contrato\").mean(numeric_only=True)\n",
    "display(agrupamento)\n",
    "\n"
   ]
  },
  {
   "cell_type": "code",
   "execution_count": 40,
   "metadata": {},
   "outputs": [
    {
     "data": {
      "text/plain": [
       "cancelou\n",
       "0.0    21603\n",
       "1.0    18509\n",
       "Name: count, dtype: int64"
      ]
     },
     "metadata": {},
     "output_type": "display_data"
    },
    {
     "data": {
      "text/plain": [
       "cancelou\n",
       "0.0    53.9%\n",
       "1.0    46.1%\n",
       "Name: proportion, dtype: object"
      ]
     },
     "metadata": {},
     "output_type": "display_data"
    }
   ],
   "source": [
    "tabela = tabela[tabela[\"duracao_contrato\"] != \"Monthly\"]\n",
    "display(tabela[\"cancelou\"].value_counts())\n",
    "display(tabela[\"cancelou\"].value_counts(normalize=True).map(\"{:.1%}\".format))"
   ]
  },
  {
   "cell_type": "code",
   "execution_count": 44,
   "metadata": {},
   "outputs": [],
   "source": [
    "# Passo 5: Analise a causa do cancelamento dos clientes\n",
    "# Cria graficos par fazer a analise\n",
    "import plotly.express as px\n",
    "\n"
   ]
  },
  {
   "cell_type": "code",
   "execution_count": 43,
   "metadata": {},
   "outputs": [
    {
     "name": "stdout",
     "output_type": "stream",
     "text": [
      "Collecting plotlyNote: you may need to restart the kernel to use updated packages.\n",
      "\n",
      "  Downloading plotly-5.17.0-py2.py3-none-any.whl (15.6 MB)\n",
      "     ---------------------------------------- 15.6/15.6 MB 8.4 MB/s eta 0:00:00\n",
      "Collecting tenacity>=6.2.0\n",
      "  Downloading tenacity-8.2.3-py3-none-any.whl (24 kB)\n",
      "Requirement already satisfied: packaging in c:\\users\\flavio.bueno\\appdata\\roaming\\python\\python311\\site-packages (from plotly) (23.1)\n",
      "Installing collected packages: tenacity, plotly\n",
      "Successfully installed plotly-5.17.0 tenacity-8.2.3\n"
     ]
    },
    {
     "name": "stderr",
     "output_type": "stream",
     "text": [
      "\n",
      "[notice] A new release of pip available: 22.3.1 -> 23.2.1\n",
      "[notice] To update, run: python.exe -m pip install --upgrade pip\n"
     ]
    }
   ],
   "source": [
    "%pip install plotly"
   ]
  }
 ],
 "metadata": {
  "kernelspec": {
   "display_name": "Python 3",
   "language": "python",
   "name": "python3"
  },
  "language_info": {
   "codemirror_mode": {
    "name": "ipython",
    "version": 3
   },
   "file_extension": ".py",
   "mimetype": "text/x-python",
   "name": "python",
   "nbconvert_exporter": "python",
   "pygments_lexer": "ipython3",
   "version": "3.11.1"
  },
  "orig_nbformat": 4
 },
 "nbformat": 4,
 "nbformat_minor": 2
}
