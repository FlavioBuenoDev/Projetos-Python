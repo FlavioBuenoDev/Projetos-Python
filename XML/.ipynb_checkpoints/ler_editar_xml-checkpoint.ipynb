{
 "cells": [
  {
   "cell_type": "code",
   "execution_count": 50,
   "id": "20d55291",
   "metadata": {},
   "outputs": [
    {
     "name": "stdout",
     "output_type": "stream",
     "text": [
      "0025259\n",
      "0046400\n",
      "0118907\n",
      "0120340\n",
      "0145785\n",
      "0145785\n",
      "0163309\n",
      "0165077\n",
      "0176451\n",
      "0176451\n",
      "0185329\n",
      "0185884\n",
      "0228435\n",
      "0272248\n",
      "0278491\n",
      "0279048\n",
      "0279056\n",
      "0283193\n",
      "0346810\n",
      "0353957\n",
      "0354910\n",
      "0371734\n",
      "0376248\n",
      "0390780\n",
      "0396079\n",
      "0439932\n",
      "0454532\n",
      "0454940\n",
      "0490989\n",
      "0492779\n",
      "0494259\n",
      "0523500\n",
      "0528242\n",
      "0545031\n",
      "0553212\n",
      "0558672\n",
      "0561177\n",
      "0571130\n",
      "0589519\n",
      "0609838\n",
      "0610054\n",
      "0614807\n",
      "0624640\n",
      "0700380\n",
      "0754579\n",
      "0760587\n",
      "0804886\n",
      "0851302\n",
      "0873004\n",
      "0876534\n",
      "0899739\n",
      "0900907\n",
      "0924300\n",
      "0924393\n",
      "0943126\n",
      "0946044\n",
      "0964077\n",
      "0974617\n"
     ]
    }
   ],
   "source": [
    "from xml.dom import minidom\n",
    "\n",
    "with open(\"exemplo.xml\", 'r', encoding='utf-8') as f:\n",
    "    xml = minidom.parse(f)\n",
    "    numero = xml.getElementsByTagName(\"ans:numeroCarteira\")\n",
    "    \n",
    "    for tag in numero:\n",
    "        result = tag.firstChild.data\n",
    "        if len(result) < 6 :\n",
    "            novo = \"00\" + result\n",
    "            tag.firstChild.replaceWholeText(novo)\n",
    "            print(novo)\n",
    "        elif len(result) < 7:\n",
    "            novo_2 = \"0\" + result\n",
    "            tag.firstChild.replaceWholeText(novo_2)\n",
    "            print(novo_2)\n",
    "    "
   ]
  },
  {
   "cell_type": "code",
   "execution_count": null,
   "id": "756de94e",
   "metadata": {},
   "outputs": [],
   "source": []
  }
 ],
 "metadata": {
  "kernelspec": {
   "display_name": "Python 3 (ipykernel)",
   "language": "python",
   "name": "python3"
  },
  "language_info": {
   "codemirror_mode": {
    "name": "ipython",
    "version": 3
   },
   "file_extension": ".py",
   "mimetype": "text/x-python",
   "name": "python",
   "nbconvert_exporter": "python",
   "pygments_lexer": "ipython3",
   "version": "3.9.7"
  }
 },
 "nbformat": 4,
 "nbformat_minor": 5
}
