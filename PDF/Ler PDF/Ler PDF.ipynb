{
 "cells": [
  {
   "cell_type": "code",
   "execution_count": 18,
   "id": "c8298d0b",
   "metadata": {},
   "outputs": [
    {
     "name": "stderr",
     "output_type": "stream",
     "text": [
      "incorrect startxref pointer(3)\n"
     ]
    },
    {
     "name": "stdout",
     "output_type": "stream",
     "text": [
      "O dado \"198\" foi encontrado no arquivo \"00312.pdf\", página 13.\n"
     ]
    }
   ],
   "source": [
    "import os\n",
    "from PyPDF2 import PdfReader\n",
    "\n",
    "def buscar_dado_em_arquivos(pasta, dado):\n",
    "    for nome_arquivo in os.listdir(pasta):\n",
    "        if nome_arquivo.endswith('.pdf'):\n",
    "            caminho_arquivo = os.path.join(pasta, nome_arquivo)\n",
    "\n",
    "            try:\n",
    "                with open(caminho_arquivo, 'rb') as arquivo:\n",
    "                    pdf = PdfReader(arquivo)\n",
    "\n",
    "                    for numero_pagina, pagina in enumerate(pdf.pages):\n",
    "                        texto = pagina.extract_text()\n",
    "\n",
    "                        if dado in texto:\n",
    "                            print(f'O dado \"{dado}\" foi encontrado no arquivo \"{nome_arquivo}\", página {numero_pagina + 1}.')\n",
    "                            return\n",
    "            except Exception as e:\n",
    "                print(f'Ocorreu um erro ao abrir o arquivo \"{nome_arquivo}\": {str(e)}')\n",
    "\n",
    "    print(f'O dado \"{dado}\" não foi encontrado em nenhum arquivo PDF na pasta \"{pasta}\".')\n",
    "\n",
    "# Exemplo de uso\n",
    "pasta = 'E:/PROPOSTAS'\n",
    "dado = '198'\n",
    "\n",
    "buscar_dado_em_arquivos(pasta, dado)\n"
   ]
  },
  {
   "cell_type": "code",
   "execution_count": null,
   "id": "b3644b41",
   "metadata": {},
   "outputs": [],
   "source": []
  }
 ],
 "metadata": {
  "kernelspec": {
   "display_name": "Python 3 (ipykernel)",
   "language": "python",
   "name": "python3"
  },
  "language_info": {
   "codemirror_mode": {
    "name": "ipython",
    "version": 3
   },
   "file_extension": ".py",
   "mimetype": "text/x-python",
   "name": "python",
   "nbconvert_exporter": "python",
   "pygments_lexer": "ipython3",
   "version": "3.9.7"
  }
 },
 "nbformat": 4,
 "nbformat_minor": 5
}
