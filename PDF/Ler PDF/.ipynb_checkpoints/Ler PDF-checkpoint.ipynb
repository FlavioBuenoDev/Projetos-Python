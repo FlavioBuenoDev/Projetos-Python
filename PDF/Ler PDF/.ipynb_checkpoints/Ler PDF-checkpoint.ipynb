{
 "cells": [
  {
   "cell_type": "code",
   "execution_count": null,
   "id": "9cfe83fc",
   "metadata": {},
   "outputs": [],
   "source": [
    "import os\n",
    "import PyPDF2\n",
    "\n",
    "def buscar_dado_em_arquivos(pasta, dado):\n",
    "    # Percorre todos os arquivos na pasta\n",
    "    for nome_arquivo in os.listdir(pasta):\n",
    "        if nome_arquivo.endswith('.pdf'):\n",
    "            caminho_arquivo = os.path.join(pasta, nome_arquivo)\n",
    "\n",
    "            # Abre o arquivo PDF\n",
    "            with open(caminho_arquivo, 'rb') as arquivo:\n",
    "                pdf = PyPDF2.PdfFileReader(arquivo)\n",
    "\n",
    "                # Percorre todas as páginas do PDF\n",
    "                for numero_pagina in range(pdf.getNumPages()):\n",
    "                    pagina = pdf.getPage(numero_pagina)\n",
    "                    texto = pagina.extractText()\n",
    "\n",
    "                    # Verifica se o dado está presente na página\n",
    "                    if dado in texto:\n",
    "                        print(f'O dado \"{dado}\" foi encontrado no arquivo \"{nome_arquivo}\", página {numero_pagina + 1}.')\n",
    "                        return  # Encerra a função se o dado for encontrado\n",
    "\n",
    "    print(f'O dado \"{dado}\" não foi encontrado em nenhum arquivo PDF na pasta \"{pasta}\".')\n",
    "\n",
    "# Exemplo de uso\n",
    "pasta = 'arquivos'\n",
    "dado = '2099624'\n",
    "\n",
    "buscar_dado_em_arquivos(pasta, dado)\n"
   ]
  }
 ],
 "metadata": {
  "kernelspec": {
   "display_name": "Python 3 (ipykernel)",
   "language": "python",
   "name": "python3"
  },
  "language_info": {
   "codemirror_mode": {
    "name": "ipython",
    "version": 3
   },
   "file_extension": ".py",
   "mimetype": "text/x-python",
   "name": "python",
   "nbconvert_exporter": "python",
   "pygments_lexer": "ipython3",
   "version": "3.9.7"
  }
 },
 "nbformat": 4,
 "nbformat_minor": 5
}
