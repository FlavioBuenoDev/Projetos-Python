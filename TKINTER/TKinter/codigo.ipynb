{
 "cells": [
  {
   "cell_type": "code",
   "execution_count": 28,
   "id": "78f728f5",
   "metadata": {},
   "outputs": [],
   "source": [
    "import requests\n",
    "from tkinter import *\n",
    "\n",
    "def pegar_cotacao():\n",
    "    requisicao = requests.get(\"https://economia.awesomeapi.com.br/last/USD-BRL,EUR-BRL,BTC-BRL\")\n",
    "    \n",
    "    requisicao_dic = requisicao.json()\n",
    "    \n",
    "    cotacao_dolar = requisicao_dic['USDBRL']['bid']\n",
    "    cotacao_euro = requisicao_dic['EURBRL']['bid']\n",
    "    cotacao_btc = requisicao_dic['BTCBRL']['bid']\n",
    "    \n",
    "    texto = f'''\n",
    "    Dólar: {cotacao_dolar}\n",
    "    Euro: {cotacao_euro}\n",
    "    BTC: {cotacao_btc}'''\n",
    "    \n",
    "    # edita o capo texto_cotacao dentro da janela\n",
    "    texto_cotacoes[\"text\"] = texto\n",
    "    \n",
    "# criando a janela\n",
    "janela = Tk()\n",
    "# auterando o titulo da janela\n",
    "janela.title(\"Cotacao atual das moedas\")\n",
    "# Tamanho da janela\n",
    "janela.geometry(\"400x400\")\n",
    "\n",
    "# parametros = (1° Qual janela faz parte, 2° qual é o texto, 3° posição na janela )\n",
    "texto_orientacao = Label(janela,text=\"Clique no botão para ver as cotações da janela\")\n",
    "# Criar um grid\n",
    "# param (1° Coluna, 2° Linha)\n",
    "texto_orientacao.grid(column=0, row=0, padx=10, pady=10)\n",
    "\n",
    "#Botao = (1° Qual janela faz parte, 2° qual é o texto, 3° ação do botao )\n",
    "botao = Button(janela, text=\"Buscar cotação Dolar/Euro/BTC\", command=pegar_cotacao)\n",
    "botao.grid(column=0, row=1, padx=10, pady=10)\n",
    "\n",
    "#texto cotacoes\n",
    "texto_cotacoes = Label(janela, text=\"\")\n",
    "texto_cotacoes.grid(column=0, row=2,padx=10, pady=10)\n",
    "\n",
    "\n",
    "janela.mainloop()\n",
    " "
   ]
  },
  {
   "cell_type": "code",
   "execution_count": 36,
   "id": "c40b9b72",
   "metadata": {},
   "outputs": [],
   "source": [
    "from tkinter import ttk\n",
    "import tkinter\n",
    "\n",
    "root = tkinter.Tk()\n",
    "\n",
    "style = ttk.Style()\n",
    "style.layout(\"TMenubutton\", [\n",
    "   (\"Menubutton.background\", None),\n",
    "   (\"Menubutton.button\", {\"children\":\n",
    "       [(\"Menubutton.focus\", {\"children\":\n",
    "           [(\"Menubutton.padding\", {\"children\":\n",
    "               [(\"Menubutton.label\", {\"side\": \"left\", \"expand\": 1})]\n",
    "           })]\n",
    "       })]\n",
    "   }),\n",
    "])\n",
    "\n",
    "mbtn = ttk.Menubutton(text='Text')\n",
    "mbtn.pack()\n",
    "root.mainloop()"
   ]
  },
  {
   "cell_type": "code",
   "execution_count": null,
   "id": "3f18fd79",
   "metadata": {},
   "outputs": [],
   "source": []
  }
 ],
 "metadata": {
  "kernelspec": {
   "display_name": "Python 3 (ipykernel)",
   "language": "python",
   "name": "python3"
  },
  "language_info": {
   "codemirror_mode": {
    "name": "ipython",
    "version": 3
   },
   "file_extension": ".py",
   "mimetype": "text/x-python",
   "name": "python",
   "nbconvert_exporter": "python",
   "pygments_lexer": "ipython3",
   "version": "3.9.7"
  }
 },
 "nbformat": 4,
 "nbformat_minor": 5
}
